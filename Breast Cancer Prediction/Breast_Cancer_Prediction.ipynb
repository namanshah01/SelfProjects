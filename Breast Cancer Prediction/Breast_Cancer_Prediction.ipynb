{
  "nbformat": 4,
  "nbformat_minor": 0,
  "metadata": {
    "colab": {
      "name": "del_me2.ipynb",
      "provenance": [],
      "collapsed_sections": [],
      "toc_visible": true
    },
    "kernelspec": {
      "name": "python3",
      "display_name": "Python 3"
    }
  },
  "cells": [
    {
      "cell_type": "markdown",
      "metadata": {
        "id": "LnWZBqsaOXUR",
        "colab_type": "text"
      },
      "source": [
        "# Breast Cancer Prediction using Support Vector Machine"
      ]
    },
    {
      "cell_type": "markdown",
      "metadata": {
        "id": "ywrfpXCl240d",
        "colab_type": "text"
      },
      "source": [
        "## Importing Libraries and Dataset"
      ]
    },
    {
      "cell_type": "code",
      "metadata": {
        "id": "282T5PKu2wxh",
        "colab_type": "code",
        "colab": {}
      },
      "source": [
        "import numpy as np\n",
        "import matplotlib.pyplot as plt\n",
        "import pandas as pd"
      ],
      "execution_count": 0,
      "outputs": []
    },
    {
      "cell_type": "code",
      "metadata": {
        "id": "KISIUzpj3Nlq",
        "colab_type": "code",
        "outputId": "c997277e-e6d8-4cab-f7df-1fa69f7c09ab",
        "colab": {
          "base_uri": "https://localhost:8080/",
          "height": 396
        }
      },
      "source": [
        "# importing the dataset\n",
        "dataset = pd.read_csv('breast_cancer_data.csv')\n",
        "dataset.head(10)"
      ],
      "execution_count": 2,
      "outputs": [
        {
          "output_type": "execute_result",
          "data": {
            "text/html": [
              "<div>\n",
              "<style scoped>\n",
              "    .dataframe tbody tr th:only-of-type {\n",
              "        vertical-align: middle;\n",
              "    }\n",
              "\n",
              "    .dataframe tbody tr th {\n",
              "        vertical-align: top;\n",
              "    }\n",
              "\n",
              "    .dataframe thead th {\n",
              "        text-align: right;\n",
              "    }\n",
              "</style>\n",
              "<table border=\"1\" class=\"dataframe\">\n",
              "  <thead>\n",
              "    <tr style=\"text-align: right;\">\n",
              "      <th></th>\n",
              "      <th>id</th>\n",
              "      <th>diagnosis</th>\n",
              "      <th>radius_mean</th>\n",
              "      <th>texture_mean</th>\n",
              "      <th>perimeter_mean</th>\n",
              "      <th>area_mean</th>\n",
              "      <th>smoothness_mean</th>\n",
              "      <th>compactness_mean</th>\n",
              "      <th>concavity_mean</th>\n",
              "      <th>concave points_mean</th>\n",
              "      <th>symmetry_mean</th>\n",
              "      <th>fractal_dimension_mean</th>\n",
              "      <th>radius_se</th>\n",
              "      <th>texture_se</th>\n",
              "      <th>perimeter_se</th>\n",
              "      <th>area_se</th>\n",
              "      <th>smoothness_se</th>\n",
              "      <th>compactness_se</th>\n",
              "      <th>concavity_se</th>\n",
              "      <th>concave points_se</th>\n",
              "      <th>symmetry_se</th>\n",
              "      <th>fractal_dimension_se</th>\n",
              "      <th>radius_worst</th>\n",
              "      <th>texture_worst</th>\n",
              "      <th>perimeter_worst</th>\n",
              "      <th>area_worst</th>\n",
              "      <th>smoothness_worst</th>\n",
              "      <th>compactness_worst</th>\n",
              "      <th>concavity_worst</th>\n",
              "      <th>concave points_worst</th>\n",
              "      <th>symmetry_worst</th>\n",
              "      <th>fractal_dimension_worst</th>\n",
              "      <th>Unnamed: 32</th>\n",
              "    </tr>\n",
              "  </thead>\n",
              "  <tbody>\n",
              "    <tr>\n",
              "      <th>0</th>\n",
              "      <td>842302</td>\n",
              "      <td>M</td>\n",
              "      <td>17.99</td>\n",
              "      <td>10.38</td>\n",
              "      <td>122.80</td>\n",
              "      <td>1001.0</td>\n",
              "      <td>0.11840</td>\n",
              "      <td>0.27760</td>\n",
              "      <td>0.30010</td>\n",
              "      <td>0.14710</td>\n",
              "      <td>0.2419</td>\n",
              "      <td>0.07871</td>\n",
              "      <td>1.0950</td>\n",
              "      <td>0.9053</td>\n",
              "      <td>8.589</td>\n",
              "      <td>153.40</td>\n",
              "      <td>0.006399</td>\n",
              "      <td>0.04904</td>\n",
              "      <td>0.05373</td>\n",
              "      <td>0.01587</td>\n",
              "      <td>0.03003</td>\n",
              "      <td>0.006193</td>\n",
              "      <td>25.38</td>\n",
              "      <td>17.33</td>\n",
              "      <td>184.60</td>\n",
              "      <td>2019.0</td>\n",
              "      <td>0.1622</td>\n",
              "      <td>0.6656</td>\n",
              "      <td>0.7119</td>\n",
              "      <td>0.2654</td>\n",
              "      <td>0.4601</td>\n",
              "      <td>0.11890</td>\n",
              "      <td>NaN</td>\n",
              "    </tr>\n",
              "    <tr>\n",
              "      <th>1</th>\n",
              "      <td>842517</td>\n",
              "      <td>M</td>\n",
              "      <td>20.57</td>\n",
              "      <td>17.77</td>\n",
              "      <td>132.90</td>\n",
              "      <td>1326.0</td>\n",
              "      <td>0.08474</td>\n",
              "      <td>0.07864</td>\n",
              "      <td>0.08690</td>\n",
              "      <td>0.07017</td>\n",
              "      <td>0.1812</td>\n",
              "      <td>0.05667</td>\n",
              "      <td>0.5435</td>\n",
              "      <td>0.7339</td>\n",
              "      <td>3.398</td>\n",
              "      <td>74.08</td>\n",
              "      <td>0.005225</td>\n",
              "      <td>0.01308</td>\n",
              "      <td>0.01860</td>\n",
              "      <td>0.01340</td>\n",
              "      <td>0.01389</td>\n",
              "      <td>0.003532</td>\n",
              "      <td>24.99</td>\n",
              "      <td>23.41</td>\n",
              "      <td>158.80</td>\n",
              "      <td>1956.0</td>\n",
              "      <td>0.1238</td>\n",
              "      <td>0.1866</td>\n",
              "      <td>0.2416</td>\n",
              "      <td>0.1860</td>\n",
              "      <td>0.2750</td>\n",
              "      <td>0.08902</td>\n",
              "      <td>NaN</td>\n",
              "    </tr>\n",
              "    <tr>\n",
              "      <th>2</th>\n",
              "      <td>84300903</td>\n",
              "      <td>M</td>\n",
              "      <td>19.69</td>\n",
              "      <td>21.25</td>\n",
              "      <td>130.00</td>\n",
              "      <td>1203.0</td>\n",
              "      <td>0.10960</td>\n",
              "      <td>0.15990</td>\n",
              "      <td>0.19740</td>\n",
              "      <td>0.12790</td>\n",
              "      <td>0.2069</td>\n",
              "      <td>0.05999</td>\n",
              "      <td>0.7456</td>\n",
              "      <td>0.7869</td>\n",
              "      <td>4.585</td>\n",
              "      <td>94.03</td>\n",
              "      <td>0.006150</td>\n",
              "      <td>0.04006</td>\n",
              "      <td>0.03832</td>\n",
              "      <td>0.02058</td>\n",
              "      <td>0.02250</td>\n",
              "      <td>0.004571</td>\n",
              "      <td>23.57</td>\n",
              "      <td>25.53</td>\n",
              "      <td>152.50</td>\n",
              "      <td>1709.0</td>\n",
              "      <td>0.1444</td>\n",
              "      <td>0.4245</td>\n",
              "      <td>0.4504</td>\n",
              "      <td>0.2430</td>\n",
              "      <td>0.3613</td>\n",
              "      <td>0.08758</td>\n",
              "      <td>NaN</td>\n",
              "    </tr>\n",
              "    <tr>\n",
              "      <th>3</th>\n",
              "      <td>84348301</td>\n",
              "      <td>M</td>\n",
              "      <td>11.42</td>\n",
              "      <td>20.38</td>\n",
              "      <td>77.58</td>\n",
              "      <td>386.1</td>\n",
              "      <td>0.14250</td>\n",
              "      <td>0.28390</td>\n",
              "      <td>0.24140</td>\n",
              "      <td>0.10520</td>\n",
              "      <td>0.2597</td>\n",
              "      <td>0.09744</td>\n",
              "      <td>0.4956</td>\n",
              "      <td>1.1560</td>\n",
              "      <td>3.445</td>\n",
              "      <td>27.23</td>\n",
              "      <td>0.009110</td>\n",
              "      <td>0.07458</td>\n",
              "      <td>0.05661</td>\n",
              "      <td>0.01867</td>\n",
              "      <td>0.05963</td>\n",
              "      <td>0.009208</td>\n",
              "      <td>14.91</td>\n",
              "      <td>26.50</td>\n",
              "      <td>98.87</td>\n",
              "      <td>567.7</td>\n",
              "      <td>0.2098</td>\n",
              "      <td>0.8663</td>\n",
              "      <td>0.6869</td>\n",
              "      <td>0.2575</td>\n",
              "      <td>0.6638</td>\n",
              "      <td>0.17300</td>\n",
              "      <td>NaN</td>\n",
              "    </tr>\n",
              "    <tr>\n",
              "      <th>4</th>\n",
              "      <td>84358402</td>\n",
              "      <td>M</td>\n",
              "      <td>20.29</td>\n",
              "      <td>14.34</td>\n",
              "      <td>135.10</td>\n",
              "      <td>1297.0</td>\n",
              "      <td>0.10030</td>\n",
              "      <td>0.13280</td>\n",
              "      <td>0.19800</td>\n",
              "      <td>0.10430</td>\n",
              "      <td>0.1809</td>\n",
              "      <td>0.05883</td>\n",
              "      <td>0.7572</td>\n",
              "      <td>0.7813</td>\n",
              "      <td>5.438</td>\n",
              "      <td>94.44</td>\n",
              "      <td>0.011490</td>\n",
              "      <td>0.02461</td>\n",
              "      <td>0.05688</td>\n",
              "      <td>0.01885</td>\n",
              "      <td>0.01756</td>\n",
              "      <td>0.005115</td>\n",
              "      <td>22.54</td>\n",
              "      <td>16.67</td>\n",
              "      <td>152.20</td>\n",
              "      <td>1575.0</td>\n",
              "      <td>0.1374</td>\n",
              "      <td>0.2050</td>\n",
              "      <td>0.4000</td>\n",
              "      <td>0.1625</td>\n",
              "      <td>0.2364</td>\n",
              "      <td>0.07678</td>\n",
              "      <td>NaN</td>\n",
              "    </tr>\n",
              "    <tr>\n",
              "      <th>5</th>\n",
              "      <td>843786</td>\n",
              "      <td>M</td>\n",
              "      <td>12.45</td>\n",
              "      <td>15.70</td>\n",
              "      <td>82.57</td>\n",
              "      <td>477.1</td>\n",
              "      <td>0.12780</td>\n",
              "      <td>0.17000</td>\n",
              "      <td>0.15780</td>\n",
              "      <td>0.08089</td>\n",
              "      <td>0.2087</td>\n",
              "      <td>0.07613</td>\n",
              "      <td>0.3345</td>\n",
              "      <td>0.8902</td>\n",
              "      <td>2.217</td>\n",
              "      <td>27.19</td>\n",
              "      <td>0.007510</td>\n",
              "      <td>0.03345</td>\n",
              "      <td>0.03672</td>\n",
              "      <td>0.01137</td>\n",
              "      <td>0.02165</td>\n",
              "      <td>0.005082</td>\n",
              "      <td>15.47</td>\n",
              "      <td>23.75</td>\n",
              "      <td>103.40</td>\n",
              "      <td>741.6</td>\n",
              "      <td>0.1791</td>\n",
              "      <td>0.5249</td>\n",
              "      <td>0.5355</td>\n",
              "      <td>0.1741</td>\n",
              "      <td>0.3985</td>\n",
              "      <td>0.12440</td>\n",
              "      <td>NaN</td>\n",
              "    </tr>\n",
              "    <tr>\n",
              "      <th>6</th>\n",
              "      <td>844359</td>\n",
              "      <td>M</td>\n",
              "      <td>18.25</td>\n",
              "      <td>19.98</td>\n",
              "      <td>119.60</td>\n",
              "      <td>1040.0</td>\n",
              "      <td>0.09463</td>\n",
              "      <td>0.10900</td>\n",
              "      <td>0.11270</td>\n",
              "      <td>0.07400</td>\n",
              "      <td>0.1794</td>\n",
              "      <td>0.05742</td>\n",
              "      <td>0.4467</td>\n",
              "      <td>0.7732</td>\n",
              "      <td>3.180</td>\n",
              "      <td>53.91</td>\n",
              "      <td>0.004314</td>\n",
              "      <td>0.01382</td>\n",
              "      <td>0.02254</td>\n",
              "      <td>0.01039</td>\n",
              "      <td>0.01369</td>\n",
              "      <td>0.002179</td>\n",
              "      <td>22.88</td>\n",
              "      <td>27.66</td>\n",
              "      <td>153.20</td>\n",
              "      <td>1606.0</td>\n",
              "      <td>0.1442</td>\n",
              "      <td>0.2576</td>\n",
              "      <td>0.3784</td>\n",
              "      <td>0.1932</td>\n",
              "      <td>0.3063</td>\n",
              "      <td>0.08368</td>\n",
              "      <td>NaN</td>\n",
              "    </tr>\n",
              "    <tr>\n",
              "      <th>7</th>\n",
              "      <td>84458202</td>\n",
              "      <td>M</td>\n",
              "      <td>13.71</td>\n",
              "      <td>20.83</td>\n",
              "      <td>90.20</td>\n",
              "      <td>577.9</td>\n",
              "      <td>0.11890</td>\n",
              "      <td>0.16450</td>\n",
              "      <td>0.09366</td>\n",
              "      <td>0.05985</td>\n",
              "      <td>0.2196</td>\n",
              "      <td>0.07451</td>\n",
              "      <td>0.5835</td>\n",
              "      <td>1.3770</td>\n",
              "      <td>3.856</td>\n",
              "      <td>50.96</td>\n",
              "      <td>0.008805</td>\n",
              "      <td>0.03029</td>\n",
              "      <td>0.02488</td>\n",
              "      <td>0.01448</td>\n",
              "      <td>0.01486</td>\n",
              "      <td>0.005412</td>\n",
              "      <td>17.06</td>\n",
              "      <td>28.14</td>\n",
              "      <td>110.60</td>\n",
              "      <td>897.0</td>\n",
              "      <td>0.1654</td>\n",
              "      <td>0.3682</td>\n",
              "      <td>0.2678</td>\n",
              "      <td>0.1556</td>\n",
              "      <td>0.3196</td>\n",
              "      <td>0.11510</td>\n",
              "      <td>NaN</td>\n",
              "    </tr>\n",
              "    <tr>\n",
              "      <th>8</th>\n",
              "      <td>844981</td>\n",
              "      <td>M</td>\n",
              "      <td>13.00</td>\n",
              "      <td>21.82</td>\n",
              "      <td>87.50</td>\n",
              "      <td>519.8</td>\n",
              "      <td>0.12730</td>\n",
              "      <td>0.19320</td>\n",
              "      <td>0.18590</td>\n",
              "      <td>0.09353</td>\n",
              "      <td>0.2350</td>\n",
              "      <td>0.07389</td>\n",
              "      <td>0.3063</td>\n",
              "      <td>1.0020</td>\n",
              "      <td>2.406</td>\n",
              "      <td>24.32</td>\n",
              "      <td>0.005731</td>\n",
              "      <td>0.03502</td>\n",
              "      <td>0.03553</td>\n",
              "      <td>0.01226</td>\n",
              "      <td>0.02143</td>\n",
              "      <td>0.003749</td>\n",
              "      <td>15.49</td>\n",
              "      <td>30.73</td>\n",
              "      <td>106.20</td>\n",
              "      <td>739.3</td>\n",
              "      <td>0.1703</td>\n",
              "      <td>0.5401</td>\n",
              "      <td>0.5390</td>\n",
              "      <td>0.2060</td>\n",
              "      <td>0.4378</td>\n",
              "      <td>0.10720</td>\n",
              "      <td>NaN</td>\n",
              "    </tr>\n",
              "    <tr>\n",
              "      <th>9</th>\n",
              "      <td>84501001</td>\n",
              "      <td>M</td>\n",
              "      <td>12.46</td>\n",
              "      <td>24.04</td>\n",
              "      <td>83.97</td>\n",
              "      <td>475.9</td>\n",
              "      <td>0.11860</td>\n",
              "      <td>0.23960</td>\n",
              "      <td>0.22730</td>\n",
              "      <td>0.08543</td>\n",
              "      <td>0.2030</td>\n",
              "      <td>0.08243</td>\n",
              "      <td>0.2976</td>\n",
              "      <td>1.5990</td>\n",
              "      <td>2.039</td>\n",
              "      <td>23.94</td>\n",
              "      <td>0.007149</td>\n",
              "      <td>0.07217</td>\n",
              "      <td>0.07743</td>\n",
              "      <td>0.01432</td>\n",
              "      <td>0.01789</td>\n",
              "      <td>0.010080</td>\n",
              "      <td>15.09</td>\n",
              "      <td>40.68</td>\n",
              "      <td>97.65</td>\n",
              "      <td>711.4</td>\n",
              "      <td>0.1853</td>\n",
              "      <td>1.0580</td>\n",
              "      <td>1.1050</td>\n",
              "      <td>0.2210</td>\n",
              "      <td>0.4366</td>\n",
              "      <td>0.20750</td>\n",
              "      <td>NaN</td>\n",
              "    </tr>\n",
              "  </tbody>\n",
              "</table>\n",
              "</div>"
            ],
            "text/plain": [
              "         id diagnosis  ...  fractal_dimension_worst  Unnamed: 32\n",
              "0    842302         M  ...                  0.11890          NaN\n",
              "1    842517         M  ...                  0.08902          NaN\n",
              "2  84300903         M  ...                  0.08758          NaN\n",
              "3  84348301         M  ...                  0.17300          NaN\n",
              "4  84358402         M  ...                  0.07678          NaN\n",
              "5    843786         M  ...                  0.12440          NaN\n",
              "6    844359         M  ...                  0.08368          NaN\n",
              "7  84458202         M  ...                  0.11510          NaN\n",
              "8    844981         M  ...                  0.10720          NaN\n",
              "9  84501001         M  ...                  0.20750          NaN\n",
              "\n",
              "[10 rows x 33 columns]"
            ]
          },
          "metadata": {
            "tags": []
          },
          "execution_count": 2
        }
      ]
    },
    {
      "cell_type": "code",
      "metadata": {
        "id": "3jHoOxVUeaCE",
        "colab_type": "code",
        "outputId": "b9a04066-3194-413e-be26-2f770fa685de",
        "colab": {
          "base_uri": "https://localhost:8080/",
          "height": 34
        }
      },
      "source": [
        "# dropping ineffective columns\n",
        "dataset = dataset.drop(['id', 'Unnamed: 32'], axis=1)\n",
        "dataset.shape"
      ],
      "execution_count": 3,
      "outputs": [
        {
          "output_type": "execute_result",
          "data": {
            "text/plain": [
              "(569, 31)"
            ]
          },
          "metadata": {
            "tags": []
          },
          "execution_count": 3
        }
      ]
    },
    {
      "cell_type": "markdown",
      "metadata": {
        "id": "pv8eA-E7Gi2-",
        "colab_type": "text"
      },
      "source": [
        "## Processing the data\n",
        "*   Checking for missing values\n",
        "*   Splitting into independent features and dependent variable\n",
        "*   Encoding categorical data\n",
        "\n"
      ]
    },
    {
      "cell_type": "code",
      "metadata": {
        "id": "udqLqfw3A7V-",
        "colab_type": "code",
        "outputId": "41c7ef69-fe55-4516-f1ee-0193afe6bb75",
        "colab": {
          "base_uri": "https://localhost:8080/",
          "height": 34
        }
      },
      "source": [
        "# Checking for missing values\n",
        "dataset.isnull().values.any()"
      ],
      "execution_count": 4,
      "outputs": [
        {
          "output_type": "execute_result",
          "data": {
            "text/plain": [
              "False"
            ]
          },
          "metadata": {
            "tags": []
          },
          "execution_count": 4
        }
      ]
    },
    {
      "cell_type": "code",
      "metadata": {
        "id": "wTzHGnWWd2fv",
        "colab_type": "code",
        "colab": {}
      },
      "source": [
        "X = dataset.iloc[:, 1:].values\n",
        "y = dataset.iloc[:, 0].values"
      ],
      "execution_count": 0,
      "outputs": []
    },
    {
      "cell_type": "code",
      "metadata": {
        "id": "dIrqbuvS9-Gl",
        "colab_type": "code",
        "outputId": "3a52d773-2f41-4645-895a-f50e528f3e54",
        "colab": {
          "base_uri": "https://localhost:8080/",
          "height": 459
        }
      },
      "source": [
        "# checking number of features and amount of data\n",
        "print('X.shape :', X.shape)\n",
        "X[:5]"
      ],
      "execution_count": 6,
      "outputs": [
        {
          "output_type": "stream",
          "text": [
            "X.shape : (569, 30)\n"
          ],
          "name": "stdout"
        },
        {
          "output_type": "execute_result",
          "data": {
            "text/plain": [
              "array([[1.799e+01, 1.038e+01, 1.228e+02, 1.001e+03, 1.184e-01, 2.776e-01,\n",
              "        3.001e-01, 1.471e-01, 2.419e-01, 7.871e-02, 1.095e+00, 9.053e-01,\n",
              "        8.589e+00, 1.534e+02, 6.399e-03, 4.904e-02, 5.373e-02, 1.587e-02,\n",
              "        3.003e-02, 6.193e-03, 2.538e+01, 1.733e+01, 1.846e+02, 2.019e+03,\n",
              "        1.622e-01, 6.656e-01, 7.119e-01, 2.654e-01, 4.601e-01, 1.189e-01],\n",
              "       [2.057e+01, 1.777e+01, 1.329e+02, 1.326e+03, 8.474e-02, 7.864e-02,\n",
              "        8.690e-02, 7.017e-02, 1.812e-01, 5.667e-02, 5.435e-01, 7.339e-01,\n",
              "        3.398e+00, 7.408e+01, 5.225e-03, 1.308e-02, 1.860e-02, 1.340e-02,\n",
              "        1.389e-02, 3.532e-03, 2.499e+01, 2.341e+01, 1.588e+02, 1.956e+03,\n",
              "        1.238e-01, 1.866e-01, 2.416e-01, 1.860e-01, 2.750e-01, 8.902e-02],\n",
              "       [1.969e+01, 2.125e+01, 1.300e+02, 1.203e+03, 1.096e-01, 1.599e-01,\n",
              "        1.974e-01, 1.279e-01, 2.069e-01, 5.999e-02, 7.456e-01, 7.869e-01,\n",
              "        4.585e+00, 9.403e+01, 6.150e-03, 4.006e-02, 3.832e-02, 2.058e-02,\n",
              "        2.250e-02, 4.571e-03, 2.357e+01, 2.553e+01, 1.525e+02, 1.709e+03,\n",
              "        1.444e-01, 4.245e-01, 4.504e-01, 2.430e-01, 3.613e-01, 8.758e-02],\n",
              "       [1.142e+01, 2.038e+01, 7.758e+01, 3.861e+02, 1.425e-01, 2.839e-01,\n",
              "        2.414e-01, 1.052e-01, 2.597e-01, 9.744e-02, 4.956e-01, 1.156e+00,\n",
              "        3.445e+00, 2.723e+01, 9.110e-03, 7.458e-02, 5.661e-02, 1.867e-02,\n",
              "        5.963e-02, 9.208e-03, 1.491e+01, 2.650e+01, 9.887e+01, 5.677e+02,\n",
              "        2.098e-01, 8.663e-01, 6.869e-01, 2.575e-01, 6.638e-01, 1.730e-01],\n",
              "       [2.029e+01, 1.434e+01, 1.351e+02, 1.297e+03, 1.003e-01, 1.328e-01,\n",
              "        1.980e-01, 1.043e-01, 1.809e-01, 5.883e-02, 7.572e-01, 7.813e-01,\n",
              "        5.438e+00, 9.444e+01, 1.149e-02, 2.461e-02, 5.688e-02, 1.885e-02,\n",
              "        1.756e-02, 5.115e-03, 2.254e+01, 1.667e+01, 1.522e+02, 1.575e+03,\n",
              "        1.374e-01, 2.050e-01, 4.000e-01, 1.625e-01, 2.364e-01, 7.678e-02]])"
            ]
          },
          "metadata": {
            "tags": []
          },
          "execution_count": 6
        }
      ]
    },
    {
      "cell_type": "code",
      "metadata": {
        "id": "iDzE4jN8EOCR",
        "colab_type": "code",
        "colab": {}
      },
      "source": [
        "# Encoding dependent variable\n",
        "from sklearn.preprocessing import LabelEncoder\n",
        "le = LabelEncoder()\n",
        "y = le.fit_transform(y)"
      ],
      "execution_count": 0,
      "outputs": []
    },
    {
      "cell_type": "code",
      "metadata": {
        "id": "BMVUXGRuFzAt",
        "colab_type": "code",
        "outputId": "e2cf9314-5cf3-4368-c6bb-f50230882d29",
        "colab": {
          "base_uri": "https://localhost:8080/",
          "height": 68
        }
      },
      "source": [
        "y[:50]"
      ],
      "execution_count": 8,
      "outputs": [
        {
          "output_type": "execute_result",
          "data": {
            "text/plain": [
              "array([1, 1, 1, 1, 1, 1, 1, 1, 1, 1, 1, 1, 1, 1, 1, 1, 1, 1, 1, 0, 0, 0,\n",
              "       1, 1, 1, 1, 1, 1, 1, 1, 1, 1, 1, 1, 1, 1, 1, 0, 1, 1, 1, 1, 1, 1,\n",
              "       1, 1, 0, 1, 0, 0])"
            ]
          },
          "metadata": {
            "tags": []
          },
          "execution_count": 8
        }
      ]
    },
    {
      "cell_type": "markdown",
      "metadata": {
        "id": "s_2Z8fqjAlhx",
        "colab_type": "text"
      },
      "source": [
        "## Splitting into training and test set"
      ]
    },
    {
      "cell_type": "code",
      "metadata": {
        "id": "RpW7Cn5-_z88",
        "colab_type": "code",
        "colab": {}
      },
      "source": [
        "from sklearn.model_selection import train_test_split\n",
        "X_train, X_test, y_train, y_test = train_test_split(X, y, test_size = 0.2, random_state = 0)"
      ],
      "execution_count": 0,
      "outputs": []
    },
    {
      "cell_type": "code",
      "metadata": {
        "id": "MMwniYWACxu-",
        "colab_type": "code",
        "outputId": "50370d52-b869-445b-e6a9-80a824290527",
        "colab": {
          "base_uri": "https://localhost:8080/",
          "height": 442
        }
      },
      "source": [
        "X_train[:5]"
      ],
      "execution_count": 10,
      "outputs": [
        {
          "output_type": "execute_result",
          "data": {
            "text/plain": [
              "array([[1.005e+01, 1.753e+01, 6.441e+01, 3.108e+02, 1.007e-01, 7.326e-02,\n",
              "        2.511e-02, 1.775e-02, 1.890e-01, 6.331e-02, 2.619e-01, 2.015e+00,\n",
              "        1.778e+00, 1.685e+01, 7.803e-03, 1.449e-02, 1.690e-02, 8.043e-03,\n",
              "        2.100e-02, 2.778e-03, 1.116e+01, 2.684e+01, 7.198e+01, 3.840e+02,\n",
              "        1.402e-01, 1.402e-01, 1.055e-01, 6.499e-02, 2.894e-01, 7.664e-02],\n",
              "       [1.080e+01, 2.198e+01, 6.879e+01, 3.599e+02, 8.801e-02, 5.743e-02,\n",
              "        3.614e-02, 1.404e-02, 2.016e-01, 5.977e-02, 3.077e-01, 1.621e+00,\n",
              "        2.240e+00, 2.020e+01, 6.543e-03, 2.148e-02, 2.991e-02, 1.045e-02,\n",
              "        1.844e-02, 2.690e-03, 1.276e+01, 3.204e+01, 8.369e+01, 4.895e+02,\n",
              "        1.303e-01, 1.696e-01, 1.927e-01, 7.485e-02, 2.965e-01, 7.662e-02],\n",
              "       [1.614e+01, 1.486e+01, 1.043e+02, 8.000e+02, 9.495e-02, 8.501e-02,\n",
              "        5.500e-02, 4.528e-02, 1.735e-01, 5.875e-02, 2.387e-01, 6.372e-01,\n",
              "        1.729e+00, 2.183e+01, 3.958e-03, 1.246e-02, 1.831e-02, 8.747e-03,\n",
              "        1.500e-02, 1.621e-03, 1.771e+01, 1.958e+01, 1.159e+02, 9.479e+02,\n",
              "        1.206e-01, 1.722e-01, 2.310e-01, 1.129e-01, 2.778e-01, 7.012e-02],\n",
              "       [1.218e+01, 1.784e+01, 7.779e+01, 4.511e+02, 1.045e-01, 7.057e-02,\n",
              "        2.490e-02, 2.941e-02, 1.900e-01, 6.635e-02, 3.661e-01, 1.511e+00,\n",
              "        2.410e+00, 2.444e+01, 5.433e-03, 1.179e-02, 1.131e-02, 1.519e-02,\n",
              "        2.220e-02, 3.408e-03, 1.283e+01, 2.092e+01, 8.214e+01, 4.952e+02,\n",
              "        1.140e-01, 9.358e-02, 4.980e-02, 5.882e-02, 2.227e-01, 7.376e-02],\n",
              "       [1.225e+01, 2.244e+01, 7.818e+01, 4.665e+02, 8.192e-02, 5.200e-02,\n",
              "        1.714e-02, 1.261e-02, 1.544e-01, 5.976e-02, 2.239e-01, 1.139e+00,\n",
              "        1.577e+00, 1.804e+01, 5.096e-03, 1.205e-02, 9.410e-03, 4.551e-03,\n",
              "        1.608e-02, 2.399e-03, 1.417e+01, 3.199e+01, 9.274e+01, 6.229e+02,\n",
              "        1.256e-01, 1.804e-01, 1.230e-01, 6.335e-02, 3.100e-01, 8.203e-02]])"
            ]
          },
          "metadata": {
            "tags": []
          },
          "execution_count": 10
        }
      ]
    },
    {
      "cell_type": "code",
      "metadata": {
        "id": "5PmAzlteCxom",
        "colab_type": "code",
        "outputId": "843aedb7-c270-460f-c5a3-0e16301b03c2",
        "colab": {
          "base_uri": "https://localhost:8080/",
          "height": 34
        }
      },
      "source": [
        "y_train[:10]"
      ],
      "execution_count": 11,
      "outputs": [
        {
          "output_type": "execute_result",
          "data": {
            "text/plain": [
              "array([0, 0, 0, 0, 0, 0, 0, 0, 1, 0])"
            ]
          },
          "metadata": {
            "tags": []
          },
          "execution_count": 11
        }
      ]
    },
    {
      "cell_type": "markdown",
      "metadata": {
        "id": "ArThHGYEDaFm",
        "colab_type": "text"
      },
      "source": [
        "## Feature Scaling"
      ]
    },
    {
      "cell_type": "code",
      "metadata": {
        "id": "9gnfUn2sC82Q",
        "colab_type": "code",
        "colab": {}
      },
      "source": [
        "from sklearn.preprocessing import StandardScaler\n",
        "sc = StandardScaler()\n",
        "X_train = sc.fit_transform(X_train)\n",
        "X_test = sc.transform(X_test)"
      ],
      "execution_count": 0,
      "outputs": []
    },
    {
      "cell_type": "code",
      "metadata": {
        "id": "gOxLDUDUIWjE",
        "colab_type": "code",
        "outputId": "23db021e-d4ab-49b3-ce09-88be46c96fd5",
        "colab": {
          "base_uri": "https://localhost:8080/",
          "height": 527
        }
      },
      "source": [
        "X_train[:5]"
      ],
      "execution_count": 13,
      "outputs": [
        {
          "output_type": "execute_result",
          "data": {
            "text/plain": [
              "array([[-1.15036482, -0.39064196, -1.12855021, -0.95876358,  0.3109837 ,\n",
              "        -0.5959945 , -0.80259612, -0.80249002,  0.29453906,  0.0942515 ,\n",
              "        -0.4950523 ,  1.48720153, -0.51448782, -0.49154005,  0.28149837,\n",
              "        -0.60451206, -0.46900701, -0.61170002,  0.05798237, -0.35763702,\n",
              "        -1.0431756 ,  0.21353282, -1.0360446 , -0.84880771,  0.34249851,\n",
              "        -0.73009743, -0.81232053, -0.75798367, -0.01614761, -0.38503402],\n",
              "       [-0.93798972,  0.68051405, -0.94820146, -0.82152548, -0.60963604,\n",
              "        -0.90986721, -0.66066905, -0.89871612,  0.75493453, -0.42547082,\n",
              "        -0.33381757,  0.75941203, -0.28751805, -0.42127695, -0.1620797 ,\n",
              "        -0.20486693, -0.05029632, -0.20309076, -0.25469005, -0.39139463,\n",
              "        -0.71565415,  1.06684183, -0.68992205, -0.66869703, -0.09553745,\n",
              "        -0.53786647, -0.37504806, -0.60687023,  0.09669004, -0.38615797],\n",
              "       [ 0.574121  , -1.03333557,  0.51394098,  0.40858627, -0.10616078,\n",
              "        -0.36301886, -0.41799048, -0.08844569, -0.27182044, -0.57522132,\n",
              "        -0.57672579, -1.05784511, -0.53856037, -0.38708923, -1.07211882,\n",
              "        -0.72057496, -0.42362791, -0.49218988, -0.67484362, -0.80147288,\n",
              "         0.29761532, -0.97781783,  0.26213665,  0.11388819, -0.52472419,\n",
              "        -0.52086645, -0.18298917, -0.02371948, -0.20050207, -0.75144254],\n",
              "       [-0.54721953, -0.3160221 , -0.57762185, -0.5666148 ,  0.5866618 ,\n",
              "        -0.64933105, -0.80529827, -0.50006514,  0.33107838,  0.54056672,\n",
              "        -0.12822568,  0.55622207, -0.20400103, -0.33234693, -0.55285085,\n",
              "        -0.75888143, -0.64891421,  0.60156561,  0.20454757, -0.11596321,\n",
              "        -0.70132509, -0.75792666, -0.73573673, -0.65896593, -0.81674816,\n",
              "        -1.03492082, -1.09163333, -0.85254451, -1.07618575, -0.54688318],\n",
              "       [-0.52739786,  0.79124029, -0.5615634 , -0.52357067, -1.05144646,\n",
              "        -1.0175317 , -0.90514905, -0.93580596, -0.9697215 , -0.42693897,\n",
              "        -0.62882784, -0.13092944, -0.61323441, -0.46658092, -0.67149038,\n",
              "        -0.74401623, -0.71006335, -1.20449751, -0.54293494, -0.50302491,\n",
              "        -0.42702588,  1.05863694, -0.42242341, -0.44095517, -0.30349391,\n",
              "        -0.46725101, -0.72456516, -0.78311815,  0.31124049, -0.08212882]])"
            ]
          },
          "metadata": {
            "tags": []
          },
          "execution_count": 13
        }
      ]
    },
    {
      "cell_type": "markdown",
      "metadata": {
        "id": "DLS1q6NYIt_j",
        "colab_type": "text"
      },
      "source": [
        "## Feature Selection"
      ]
    },
    {
      "cell_type": "code",
      "metadata": {
        "id": "88djlHgMKzpU",
        "colab_type": "code",
        "colab": {
          "base_uri": "https://localhost:8080/",
          "height": 71
        },
        "outputId": "edc2f0ec-71c9-4e73-c7a9-dec340ac87eb"
      },
      "source": [
        "import statsmodels.api as sm\n",
        "\n",
        "# Adding constant column of ones, mandatory for sm.OLS model\n",
        "X_1 = sm.add_constant(X)\n",
        "model = sm.OLS(y,X_1).fit()\n",
        "\n",
        "# array of pvalues of all features\n",
        "col_val = model.pvalues"
      ],
      "execution_count": 14,
      "outputs": [
        {
          "output_type": "stream",
          "text": [
            "/usr/local/lib/python3.6/dist-packages/statsmodels/tools/_testing.py:19: FutureWarning: pandas.util.testing is deprecated. Use the functions in the public API at pandas.testing instead.\n",
            "  import pandas.util.testing as tm\n"
          ],
          "name": "stderr"
        }
      ]
    },
    {
      "cell_type": "code",
      "metadata": {
        "id": "7GSALwi7e0N5",
        "colab_type": "code",
        "outputId": "5b31f712-cb10-423f-b366-adce5ee56f98",
        "colab": {
          "base_uri": "https://localhost:8080/",
          "height": 544
        }
      },
      "source": [
        "# array of feature names\n",
        "col_name = np.array(dataset.drop(['diagnosis'], axis=1).columns)\n",
        "col_name = np.concatenate(([['const']], col_name.reshape(len(col_name), 1)))\n",
        "\n",
        "# displaying feature names vs its pvalue\n",
        "col_name_val = np.concatenate((col_name, col_val.reshape(len(col_val), 1)), axis = 1)\n",
        "col_name_val"
      ],
      "execution_count": 15,
      "outputs": [
        {
          "output_type": "execute_result",
          "data": {
            "text/plain": [
              "array([['const', 2.9581492378923364e-06],\n",
              "       ['radius_mean', 0.20998515087273245],\n",
              "       ['texture_mean', 0.567426382361138],\n",
              "       ['perimeter_mean', 0.3446407831278586],\n",
              "       ['area_mean', 0.5453913936113519],\n",
              "       ['smoothness_mean', 0.966528678512118],\n",
              "       ['compactness_mean', 0.0016346863367958221],\n",
              "       ['concavity_mean', 0.18188720435566977],\n",
              "       ['concave points_mean', 0.27965690529625015],\n",
              "       ['symmetry_mean', 0.8900673024379991],\n",
              "       ['fractal_dimension_mean', 0.9952395628706676],\n",
              "       ['radius_se', 0.16180021314882054],\n",
              "       ['texture_se', 0.8545254348216403],\n",
              "       ['perimeter_se', 0.5841286130633738],\n",
              "       ['area_se', 0.5092349481098869],\n",
              "       ['smoothness_se', 0.017046174658361144],\n",
              "       ['compactness_se', 0.9761447134692851],\n",
              "       ['concavity_se', 0.006327374134565553],\n",
              "       ['concave points_se', 0.05310331187514704],\n",
              "       ['symmetry_se', 0.5340191409185916],\n",
              "       ['fractal_dimension_se', 0.5407692671778805],\n",
              "       ['radius_worst', 0.0008139505462869231],\n",
              "       ['texture_worst', 0.3033388649737639],\n",
              "       ['perimeter_worst', 0.6818074565006682],\n",
              "       ['area_worst', 0.0016475512605358567],\n",
              "       ['smoothness_worst', 0.7052882377789511],\n",
              "       ['compactness_worst', 0.860901971362578],\n",
              "       ['concavity_worst', 0.15645290197284337],\n",
              "       ['concave points_worst', 0.6117509137174668],\n",
              "       ['symmetry_worst', 0.2604928598942471],\n",
              "       ['fractal_dimension_worst', 0.07151650290922525]], dtype=object)"
            ]
          },
          "metadata": {
            "tags": []
          },
          "execution_count": 15
        }
      ]
    },
    {
      "cell_type": "code",
      "metadata": {
        "id": "jsQyKWw9NjVO",
        "colab_type": "code",
        "outputId": "beabbfaf-3825-417c-feb1-f18631eff1ba",
        "colab": {
          "base_uri": "https://localhost:8080/",
          "height": 119
        }
      },
      "source": [
        "# filtering features with pvalue less than 0.05\n",
        "index = list(i for i in range(0, len(col_name_val)) if col_name_val[i][1]<=0.05)\n",
        "print(col_name_val[index])"
      ],
      "execution_count": 16,
      "outputs": [
        {
          "output_type": "stream",
          "text": [
            "[['const' 2.9581492378923364e-06]\n",
            " ['compactness_mean' 0.0016346863367958221]\n",
            " ['smoothness_se' 0.017046174658361144]\n",
            " ['concavity_se' 0.006327374134565553]\n",
            " ['radius_worst' 0.0008139505462869231]\n",
            " ['area_worst' 0.0016475512605358567]]\n"
          ],
          "name": "stdout"
        }
      ]
    },
    {
      "cell_type": "code",
      "metadata": {
        "id": "7gvXt4XkYN4P",
        "colab_type": "code",
        "outputId": "dba695b5-8594-473a-82cd-a327da0ec094",
        "colab": {
          "base_uri": "https://localhost:8080/",
          "height": 51
        }
      },
      "source": [
        "# retrieving index numbers of the selected features\n",
        "cols_index = list(i-1 for i in range(1, len(col_name_val)) if col_name_val[i][1]<=0.05)\n",
        "print('number of selected features :', len(cols_index))\n",
        "cols_index"
      ],
      "execution_count": 17,
      "outputs": [
        {
          "output_type": "stream",
          "text": [
            "number of selected features : 5\n"
          ],
          "name": "stdout"
        },
        {
          "output_type": "execute_result",
          "data": {
            "text/plain": [
              "[5, 14, 16, 20, 23]"
            ]
          },
          "metadata": {
            "tags": []
          },
          "execution_count": 17
        }
      ]
    },
    {
      "cell_type": "code",
      "metadata": {
        "id": "TwhXq3TAaQOR",
        "colab_type": "code",
        "outputId": "c6e1e0e9-56d0-4323-8b1a-dcd4f6451e63",
        "colab": {
          "base_uri": "https://localhost:8080/",
          "height": 187
        }
      },
      "source": [
        "# checking data with training set\n",
        "X_train[:10, cols_index]"
      ],
      "execution_count": 18,
      "outputs": [
        {
          "output_type": "execute_result",
          "data": {
            "text/plain": [
              "array([[-0.5959945 ,  0.28149837, -0.46900701, -1.0431756 , -0.84880771],\n",
              "       [-0.90986721, -0.1620797 , -0.05029632, -0.71565415, -0.66869703],\n",
              "       [-0.36301886, -1.07211882, -0.42362791,  0.29761532,  0.11388819],\n",
              "       [-0.64933105, -0.55285085, -0.64891421, -0.70132509, -0.65896593],\n",
              "       [-1.0175317 , -0.67149038, -0.71006335, -0.42702588, -0.44095517],\n",
              "       [-0.34834635, -0.9619284 , -0.10275585, -0.41269682, -0.4395894 ],\n",
              "       [-1.18805004,  0.36282102, -0.52565042, -0.60306866, -0.59323833],\n",
              "       [-0.52897683, -0.06843544, -0.58519037, -0.52118829, -0.52375487],\n",
              "       [ 2.73585456,  0.34029007,  2.7397136 , -0.10564546, -0.20279933],\n",
              "       [ 0.1542862 , -0.12969146, -0.33673176, -0.69927808, -0.69157364]])"
            ]
          },
          "metadata": {
            "tags": []
          },
          "execution_count": 18
        }
      ]
    },
    {
      "cell_type": "code",
      "metadata": {
        "id": "YVJMADTLZQbc",
        "colab_type": "code",
        "colab": {}
      },
      "source": [
        "# modifying training and test set with selected\n",
        "X_train = X_train[:, cols_index]\n",
        "X_test = X_test[:, cols_index]"
      ],
      "execution_count": 0,
      "outputs": []
    },
    {
      "cell_type": "markdown",
      "metadata": {
        "id": "g6wTzqr6SUv9",
        "colab_type": "text"
      },
      "source": [
        "## Training, Prediction and Results"
      ]
    },
    {
      "cell_type": "markdown",
      "metadata": {
        "id": "GfhwjvnDVXL8",
        "colab_type": "text"
      },
      "source": [
        "### rbf kernel"
      ]
    },
    {
      "cell_type": "code",
      "metadata": {
        "id": "Qc8zZEVbUQ5n",
        "colab_type": "code",
        "outputId": "566aab90-43d0-4490-93cf-847656adfff3",
        "colab": {
          "base_uri": "https://localhost:8080/",
          "height": 85
        }
      },
      "source": [
        "# training\n",
        "from sklearn.svm import SVC\n",
        "classifier1 = SVC(kernel = 'rbf', random_state = 0)\n",
        "classifier1.fit(X_train, y_train)"
      ],
      "execution_count": 20,
      "outputs": [
        {
          "output_type": "execute_result",
          "data": {
            "text/plain": [
              "SVC(C=1.0, break_ties=False, cache_size=200, class_weight=None, coef0=0.0,\n",
              "    decision_function_shape='ovr', degree=3, gamma='scale', kernel='rbf',\n",
              "    max_iter=-1, probability=False, random_state=0, shrinking=True, tol=0.001,\n",
              "    verbose=False)"
            ]
          },
          "metadata": {
            "tags": []
          },
          "execution_count": 20
        }
      ]
    },
    {
      "cell_type": "code",
      "metadata": {
        "id": "st_XJlsEVcXi",
        "colab_type": "code",
        "colab": {}
      },
      "source": [
        "# prediction\n",
        "y_pred1 = classifier1.predict(X_test)"
      ],
      "execution_count": 0,
      "outputs": []
    },
    {
      "cell_type": "code",
      "metadata": {
        "id": "WfCm2kyXVeCR",
        "colab_type": "code",
        "outputId": "9b3f0f94-6975-4e2d-f006-78144dcf24d5",
        "colab": {
          "base_uri": "https://localhost:8080/",
          "height": 68
        }
      },
      "source": [
        "# results\n",
        "from sklearn.metrics import confusion_matrix, accuracy_score\n",
        "print(confusion_matrix(y_test, y_pred1))\n",
        "accuracy_score(y_test, y_pred1)"
      ],
      "execution_count": 22,
      "outputs": [
        {
          "output_type": "stream",
          "text": [
            "[[63  4]\n",
            " [ 4 43]]\n"
          ],
          "name": "stdout"
        },
        {
          "output_type": "execute_result",
          "data": {
            "text/plain": [
              "0.9298245614035088"
            ]
          },
          "metadata": {
            "tags": []
          },
          "execution_count": 22
        }
      ]
    },
    {
      "cell_type": "markdown",
      "metadata": {
        "id": "J6lvsH_T9Z2M",
        "colab_type": "text"
      },
      "source": [
        "Note : The rbf kernel shows exceptional results of approximately 93% accuracy score. (For comparision, rbf kernel without feature selection shows 98% accuracy score)"
      ]
    },
    {
      "cell_type": "markdown",
      "metadata": {
        "id": "eQ3X9Q-pHitD",
        "colab_type": "text"
      },
      "source": [
        "### Linear Kernel"
      ]
    },
    {
      "cell_type": "code",
      "metadata": {
        "id": "QnpXnMsTHpkK",
        "colab_type": "code",
        "outputId": "a01a8888-308f-4e51-8710-ee9aec0cd49d",
        "colab": {
          "base_uri": "https://localhost:8080/",
          "height": 85
        }
      },
      "source": [
        "# training\n",
        "classifier2 = SVC(kernel = 'linear', random_state = 0)\n",
        "classifier2.fit(X_train, y_train)"
      ],
      "execution_count": 23,
      "outputs": [
        {
          "output_type": "execute_result",
          "data": {
            "text/plain": [
              "SVC(C=1.0, break_ties=False, cache_size=200, class_weight=None, coef0=0.0,\n",
              "    decision_function_shape='ovr', degree=3, gamma='scale', kernel='linear',\n",
              "    max_iter=-1, probability=False, random_state=0, shrinking=True, tol=0.001,\n",
              "    verbose=False)"
            ]
          },
          "metadata": {
            "tags": []
          },
          "execution_count": 23
        }
      ]
    },
    {
      "cell_type": "code",
      "metadata": {
        "id": "s7ESVuyHHvrV",
        "colab_type": "code",
        "colab": {}
      },
      "source": [
        "# prediction\n",
        "y_pred2 = classifier2.predict(X_test)"
      ],
      "execution_count": 0,
      "outputs": []
    },
    {
      "cell_type": "code",
      "metadata": {
        "id": "vMlGXteRH0fn",
        "colab_type": "code",
        "outputId": "4b786e75-32c6-48b3-bb45-a7f56a7b9ee7",
        "colab": {
          "base_uri": "https://localhost:8080/",
          "height": 68
        }
      },
      "source": [
        "# results\n",
        "print(confusion_matrix(y_test, y_pred2))\n",
        "accuracy_score(y_test, y_pred2)"
      ],
      "execution_count": 25,
      "outputs": [
        {
          "output_type": "stream",
          "text": [
            "[[64  3]\n",
            " [ 3 44]]\n"
          ],
          "name": "stdout"
        },
        {
          "output_type": "execute_result",
          "data": {
            "text/plain": [
              "0.9473684210526315"
            ]
          },
          "metadata": {
            "tags": []
          },
          "execution_count": 25
        }
      ]
    },
    {
      "cell_type": "markdown",
      "metadata": {
        "id": "FB89cZcmH6t-",
        "colab_type": "text"
      },
      "source": [
        "Note : The linear kernel shows exceptional results of approximately 95% accuracy score. (For comparision, linear kernel without feature selection shows 98% accuracy score)"
      ]
    },
    {
      "cell_type": "markdown",
      "metadata": {
        "id": "7o9w3PreFH4E",
        "colab_type": "text"
      },
      "source": [
        "## Conclusion\n",
        "*   Feature selection was effectively done, the results obtained from selected 5 features, were significantly close to results using all the 30 features (for linear and rbf kernels).\n",
        "*   The 'breast cancer prediction' model using 'support vector machine' was a success with approximately 95% accuracy obtained with the linear kernel."
      ]
    }
  ]
}