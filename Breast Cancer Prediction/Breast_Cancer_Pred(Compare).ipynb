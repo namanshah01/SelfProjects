{
  "nbformat": 4,
  "nbformat_minor": 0,
  "metadata": {
    "colab": {
      "name": "Breast_Cancer_Pred(Compare).ipynb",
      "provenance": [],
      "toc_visible": true
    },
    "kernelspec": {
      "name": "python3",
      "display_name": "Python 3"
    }
  },
  "cells": [
    {
      "cell_type": "markdown",
      "metadata": {
        "id": "cn3H32hQLP_J",
        "colab_type": "text"
      },
      "source": [
        "### Breast Cancer Prediction (Compare)"
      ]
    },
    {
      "cell_type": "markdown",
      "metadata": {
        "id": "Hl7Gx6k8Lep9",
        "colab_type": "text"
      },
      "source": [
        "Note : this file is strictly for comparision purposes with the original file only.\n",
        "<p>The 98% accuracy score without feature selection stated in the original file can be verified here."
      ]
    },
    {
      "cell_type": "markdown",
      "metadata": {
        "id": "ywrfpXCl240d",
        "colab_type": "text"
      },
      "source": [
        "## Importing Libraries and Dataset"
      ]
    },
    {
      "cell_type": "code",
      "metadata": {
        "id": "282T5PKu2wxh",
        "colab_type": "code",
        "colab": {}
      },
      "source": [
        "import numpy as np\n",
        "import matplotlib.pyplot as plt\n",
        "import pandas as pd"
      ],
      "execution_count": 0,
      "outputs": []
    },
    {
      "cell_type": "code",
      "metadata": {
        "id": "KISIUzpj3Nlq",
        "colab_type": "code",
        "outputId": "187965e5-8a4d-40d1-fccb-ce2817d56144",
        "colab": {
          "base_uri": "https://localhost:8080/",
          "height": 34
        }
      },
      "source": [
        "dataset = pd.read_csv('breast_cancer_data.csv')\n",
        "dataset = dataset.drop(['id', 'Unnamed: 32'], axis=1)\n",
        "dataset.shape"
      ],
      "execution_count": 2,
      "outputs": [
        {
          "output_type": "execute_result",
          "data": {
            "text/plain": [
              "(569, 31)"
            ]
          },
          "metadata": {
            "tags": []
          },
          "execution_count": 2
        }
      ]
    },
    {
      "cell_type": "markdown",
      "metadata": {
        "id": "pv8eA-E7Gi2-",
        "colab_type": "text"
      },
      "source": [
        "## Processing the data\n"
      ]
    },
    {
      "cell_type": "code",
      "metadata": {
        "id": "udqLqfw3A7V-",
        "colab_type": "code",
        "outputId": "1b3aba99-02ac-41b4-a213-c78fda87edd0",
        "colab": {
          "base_uri": "https://localhost:8080/",
          "height": 34
        }
      },
      "source": [
        "# Checking for missing values\n",
        "dataset.isnull().values.any()"
      ],
      "execution_count": 3,
      "outputs": [
        {
          "output_type": "execute_result",
          "data": {
            "text/plain": [
              "False"
            ]
          },
          "metadata": {
            "tags": []
          },
          "execution_count": 3
        }
      ]
    },
    {
      "cell_type": "code",
      "metadata": {
        "id": "wTzHGnWWd2fv",
        "colab_type": "code",
        "colab": {}
      },
      "source": [
        "X = dataset.iloc[:, 1:].values\n",
        "y = dataset.iloc[:, 0].values"
      ],
      "execution_count": 0,
      "outputs": []
    },
    {
      "cell_type": "code",
      "metadata": {
        "id": "iDzE4jN8EOCR",
        "colab_type": "code",
        "colab": {}
      },
      "source": [
        "# Encoding dependent variable\n",
        "from sklearn.preprocessing import LabelEncoder\n",
        "le = LabelEncoder()\n",
        "y = le.fit_transform(y)"
      ],
      "execution_count": 0,
      "outputs": []
    },
    {
      "cell_type": "markdown",
      "metadata": {
        "id": "s_2Z8fqjAlhx",
        "colab_type": "text"
      },
      "source": [
        "## Splitting into training and test set"
      ]
    },
    {
      "cell_type": "code",
      "metadata": {
        "id": "RpW7Cn5-_z88",
        "colab_type": "code",
        "colab": {}
      },
      "source": [
        "from sklearn.model_selection import train_test_split\n",
        "X_train, X_test, y_train, y_test = train_test_split(X, y, test_size = 0.2, random_state = 0)"
      ],
      "execution_count": 0,
      "outputs": []
    },
    {
      "cell_type": "markdown",
      "metadata": {
        "id": "ArThHGYEDaFm",
        "colab_type": "text"
      },
      "source": [
        "## Feature Scaling"
      ]
    },
    {
      "cell_type": "code",
      "metadata": {
        "id": "9gnfUn2sC82Q",
        "colab_type": "code",
        "colab": {}
      },
      "source": [
        "from sklearn.preprocessing import StandardScaler\n",
        "sc = StandardScaler()\n",
        "X_train = sc.fit_transform(X_train)\n",
        "X_test = sc.transform(X_test)"
      ],
      "execution_count": 0,
      "outputs": []
    },
    {
      "cell_type": "markdown",
      "metadata": {
        "id": "g6wTzqr6SUv9",
        "colab_type": "text"
      },
      "source": [
        "## Training, Prediction and Results"
      ]
    },
    {
      "cell_type": "markdown",
      "metadata": {
        "id": "GfhwjvnDVXL8",
        "colab_type": "text"
      },
      "source": [
        "### rbf kernel"
      ]
    },
    {
      "cell_type": "code",
      "metadata": {
        "id": "Qc8zZEVbUQ5n",
        "colab_type": "code",
        "outputId": "dd32ec34-e7c5-4648-9ae0-6a180c909060",
        "colab": {
          "base_uri": "https://localhost:8080/",
          "height": 34
        }
      },
      "source": [
        "from sklearn.svm import SVC\n",
        "from sklearn.metrics import confusion_matrix, accuracy_score\n",
        "\n",
        "classifier1 = SVC(kernel = 'rbf', random_state = 0)\n",
        "classifier1.fit(X_train, y_train)\n",
        "\n",
        "accuracy_score(y_test, classifier1.predict(X_test))"
      ],
      "execution_count": 8,
      "outputs": [
        {
          "output_type": "execute_result",
          "data": {
            "text/plain": [
              "0.9824561403508771"
            ]
          },
          "metadata": {
            "tags": []
          },
          "execution_count": 8
        }
      ]
    },
    {
      "cell_type": "markdown",
      "metadata": {
        "id": "J6lvsH_T9Z2M",
        "colab_type": "text"
      },
      "source": [
        "Note : The rbf kernel without feature selection shows approximately 98% accuracy score"
      ]
    },
    {
      "cell_type": "markdown",
      "metadata": {
        "id": "eQ3X9Q-pHitD",
        "colab_type": "text"
      },
      "source": [
        "### Linear Kernel"
      ]
    },
    {
      "cell_type": "code",
      "metadata": {
        "id": "QnpXnMsTHpkK",
        "colab_type": "code",
        "outputId": "20d3cffd-c9a1-4e4b-986c-0d8ad572ddbd",
        "colab": {
          "base_uri": "https://localhost:8080/",
          "height": 34
        }
      },
      "source": [
        "classifier2 = SVC(kernel = 'rbf', random_state = 0)\n",
        "classifier2.fit(X_train, y_train)\n",
        "\n",
        "accuracy_score(y_test, classifier2.predict(X_test))"
      ],
      "execution_count": 9,
      "outputs": [
        {
          "output_type": "execute_result",
          "data": {
            "text/plain": [
              "0.9824561403508771"
            ]
          },
          "metadata": {
            "tags": []
          },
          "execution_count": 9
        }
      ]
    },
    {
      "cell_type": "markdown",
      "metadata": {
        "id": "keoRRiSXO3Iu",
        "colab_type": "text"
      },
      "source": [
        "Note : The linear kernel without feature selection shows approximately 98% accuracy score"
      ]
    }
  ]
}