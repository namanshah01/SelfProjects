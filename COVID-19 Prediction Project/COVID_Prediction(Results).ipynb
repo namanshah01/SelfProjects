{
  "nbformat": 4,
  "nbformat_minor": 0,
  "metadata": {
    "colab": {
      "name": "COVID_Prediction2.ipynb",
      "provenance": [],
      "collapsed_sections": [],
      "toc_visible": true
    },
    "kernelspec": {
      "name": "python3",
      "display_name": "Python 3"
    }
  },
  "cells": [
    {
      "cell_type": "markdown",
      "metadata": {
        "id": "yl0v4xJrx17U",
        "colab_type": "text"
      },
      "source": [
        "# COVID-19 Analysis"
      ]
    },
    {
      "cell_type": "markdown",
      "metadata": {
        "id": "Bm7pH6mKx8Bo",
        "colab_type": "text"
      },
      "source": [
        "## Importing libraries and dataset"
      ]
    },
    {
      "cell_type": "code",
      "metadata": {
        "id": "FHquPYzuyE6k",
        "colab_type": "code",
        "colab": {}
      },
      "source": [
        "import numpy as np\n",
        "import matplotlib.pyplot as plt\n",
        "import pandas as pd\n",
        "# source : https://ourworldindata.org/coronavirus-source-data"
      ],
      "execution_count": 0,
      "outputs": []
    },
    {
      "cell_type": "code",
      "metadata": {
        "id": "RG5gf3bWyNqg",
        "colab_type": "code",
        "outputId": "28d549dd-95a1-4090-d9b4-4de60be8347a",
        "colab": {
          "base_uri": "https://localhost:8080/",
          "height": 136
        }
      },
      "source": [
        "df = pd.read_csv('COVID_Total_Updated.csv')\n",
        "df.columns"
      ],
      "execution_count": 2,
      "outputs": [
        {
          "output_type": "execute_result",
          "data": {
            "text/plain": [
              "Index(['date', 'World', 'Afghanistan', 'Albania', 'Algeria', 'Andorra',\n",
              "       'Angola', 'Anguilla', 'Antigua and Barbuda', 'Argentina',\n",
              "       ...\n",
              "       'United States Virgin Islands', 'Uruguay', 'Uzbekistan', 'Vatican',\n",
              "       'Venezuela', 'Vietnam', 'Western Sahara', 'Yemen', 'Zambia',\n",
              "       'Zimbabwe'],\n",
              "      dtype='object', length=211)"
            ]
          },
          "metadata": {
            "tags": []
          },
          "execution_count": 2
        }
      ]
    },
    {
      "cell_type": "code",
      "metadata": {
        "id": "K3l5sr1_ABAx",
        "colab_type": "code",
        "colab": {}
      },
      "source": [
        "df = df[['date', 'World', 'India']]\n",
        "df = df.loc[df['India']!=0]"
      ],
      "execution_count": 0,
      "outputs": []
    },
    {
      "cell_type": "code",
      "metadata": {
        "id": "P0UxhGyA34yL",
        "colab_type": "code",
        "outputId": "ec77a885-cbef-4d79-ab59-79246a2fd291",
        "colab": {
          "base_uri": "https://localhost:8080/",
          "height": 419
        }
      },
      "source": [
        "df = df.set_index([pd.Index(list(i for i in range(0,len(df))))])\n",
        "df['index1'] = df.index\n",
        "cols = list(df.columns)\n",
        "dataset = df[[cols[-1]] + cols[:-1]]\n",
        "dataset"
      ],
      "execution_count": 4,
      "outputs": [
        {
          "output_type": "execute_result",
          "data": {
            "text/html": [
              "<div>\n",
              "<style scoped>\n",
              "    .dataframe tbody tr th:only-of-type {\n",
              "        vertical-align: middle;\n",
              "    }\n",
              "\n",
              "    .dataframe tbody tr th {\n",
              "        vertical-align: top;\n",
              "    }\n",
              "\n",
              "    .dataframe thead th {\n",
              "        text-align: right;\n",
              "    }\n",
              "</style>\n",
              "<table border=\"1\" class=\"dataframe\">\n",
              "  <thead>\n",
              "    <tr style=\"text-align: right;\">\n",
              "      <th></th>\n",
              "      <th>index1</th>\n",
              "      <th>date</th>\n",
              "      <th>World</th>\n",
              "      <th>India</th>\n",
              "    </tr>\n",
              "  </thead>\n",
              "  <tbody>\n",
              "    <tr>\n",
              "      <th>0</th>\n",
              "      <td>0</td>\n",
              "      <td>30-01-2020</td>\n",
              "      <td>7823</td>\n",
              "      <td>1</td>\n",
              "    </tr>\n",
              "    <tr>\n",
              "      <th>1</th>\n",
              "      <td>1</td>\n",
              "      <td>31-01-2020</td>\n",
              "      <td>9826</td>\n",
              "      <td>1</td>\n",
              "    </tr>\n",
              "    <tr>\n",
              "      <th>2</th>\n",
              "      <td>2</td>\n",
              "      <td>01-02-2020</td>\n",
              "      <td>11946</td>\n",
              "      <td>1</td>\n",
              "    </tr>\n",
              "    <tr>\n",
              "      <th>3</th>\n",
              "      <td>3</td>\n",
              "      <td>02-02-2020</td>\n",
              "      <td>14554</td>\n",
              "      <td>2</td>\n",
              "    </tr>\n",
              "    <tr>\n",
              "      <th>4</th>\n",
              "      <td>4</td>\n",
              "      <td>03-02-2020</td>\n",
              "      <td>17372</td>\n",
              "      <td>2</td>\n",
              "    </tr>\n",
              "    <tr>\n",
              "      <th>...</th>\n",
              "      <td>...</td>\n",
              "      <td>...</td>\n",
              "      <td>...</td>\n",
              "      <td>...</td>\n",
              "    </tr>\n",
              "    <tr>\n",
              "      <th>101</th>\n",
              "      <td>101</td>\n",
              "      <td>10-05-2020</td>\n",
              "      <td>3989894</td>\n",
              "      <td>62939</td>\n",
              "    </tr>\n",
              "    <tr>\n",
              "      <th>102</th>\n",
              "      <td>102</td>\n",
              "      <td>11-05-2020</td>\n",
              "      <td>4066883</td>\n",
              "      <td>67152</td>\n",
              "    </tr>\n",
              "    <tr>\n",
              "      <th>103</th>\n",
              "      <td>103</td>\n",
              "      <td>12-05-2020</td>\n",
              "      <td>4137915</td>\n",
              "      <td>70756</td>\n",
              "    </tr>\n",
              "    <tr>\n",
              "      <th>104</th>\n",
              "      <td>104</td>\n",
              "      <td>13-05-2020</td>\n",
              "      <td>4223701</td>\n",
              "      <td>74281</td>\n",
              "    </tr>\n",
              "    <tr>\n",
              "      <th>105</th>\n",
              "      <td>105</td>\n",
              "      <td>14-05-2020</td>\n",
              "      <td>4308809</td>\n",
              "      <td>78003</td>\n",
              "    </tr>\n",
              "  </tbody>\n",
              "</table>\n",
              "<p>106 rows × 4 columns</p>\n",
              "</div>"
            ],
            "text/plain": [
              "     index1        date    World  India\n",
              "0         0  30-01-2020     7823      1\n",
              "1         1  31-01-2020     9826      1\n",
              "2         2  01-02-2020    11946      1\n",
              "3         3  02-02-2020    14554      2\n",
              "4         4  03-02-2020    17372      2\n",
              "..      ...         ...      ...    ...\n",
              "101     101  10-05-2020  3989894  62939\n",
              "102     102  11-05-2020  4066883  67152\n",
              "103     103  12-05-2020  4137915  70756\n",
              "104     104  13-05-2020  4223701  74281\n",
              "105     105  14-05-2020  4308809  78003\n",
              "\n",
              "[106 rows x 4 columns]"
            ]
          },
          "metadata": {
            "tags": []
          },
          "execution_count": 4
        }
      ]
    },
    {
      "cell_type": "code",
      "metadata": {
        "id": "smmwCuuJUWII",
        "colab_type": "code",
        "colab": {}
      },
      "source": [
        "X = dataset.iloc[:-7, 0:1].values\n",
        "y = dataset.iloc[:-7, -1].values\n",
        "y_actual = dataset.iloc[-7:, -1].values"
      ],
      "execution_count": 0,
      "outputs": []
    },
    {
      "cell_type": "markdown",
      "metadata": {
        "id": "uBmOwJcUD4G3",
        "colab_type": "text"
      },
      "source": [
        "## Training with data"
      ]
    },
    {
      "cell_type": "code",
      "metadata": {
        "id": "0CRVDLYFDdFq",
        "colab_type": "code",
        "outputId": "68483f53-b27c-4a18-8963-1acca5c6a703",
        "colab": {
          "base_uri": "https://localhost:8080/",
          "height": 34
        }
      },
      "source": [
        "from sklearn.preprocessing import PolynomialFeatures\n",
        "from sklearn.linear_model import LinearRegression\n",
        "pf = PolynomialFeatures(degree = 4)\n",
        "X_poly = pf.fit_transform(X)\n",
        "regressor = LinearRegression()\n",
        "regressor.fit(X_poly, y)"
      ],
      "execution_count": 6,
      "outputs": [
        {
          "output_type": "execute_result",
          "data": {
            "text/plain": [
              "LinearRegression(copy_X=True, fit_intercept=True, n_jobs=None, normalize=False)"
            ]
          },
          "metadata": {
            "tags": []
          },
          "execution_count": 6
        }
      ]
    },
    {
      "cell_type": "markdown",
      "metadata": {
        "id": "8KSb5k44ERpG",
        "colab_type": "text"
      },
      "source": [
        "## Predictions for next 7 days"
      ]
    },
    {
      "cell_type": "code",
      "metadata": {
        "id": "jd-G7CNiEQeW",
        "colab_type": "code",
        "colab": {}
      },
      "source": [
        "# making new dataset for next 7 days\n",
        "X_new = np.linspace(99, 105, num = 7, dtype = np.int32, endpoint = True)\n",
        "X_new = X_new.reshape(len(X_new), 1)\n",
        "X_total = np.linspace(0, 105, dtype = np.int32, endpoint = True)\n",
        "X_total = X_total.reshape(len(X_total), 1)"
      ],
      "execution_count": 0,
      "outputs": []
    },
    {
      "cell_type": "markdown",
      "metadata": {
        "id": "cei2Vn-bFOQO",
        "colab_type": "text"
      },
      "source": [
        "NOTE : The data is from 1st Jan 2020 to 7th May 2020.\n",
        "With 1st Jan 2020 being 'Day 0'.\n",
        "An additional dataset is created of next 7 days (ie 8th May 2020 to 14 May 2020) ranging from Day 99 to Day 105.\n",
        "A bar graph is also plotted for the predicted values.\n"
      ]
    },
    {
      "cell_type": "code",
      "metadata": {
        "id": "2j7RGLjhIEzu",
        "colab_type": "code",
        "outputId": "b29839f8-080d-4b5f-f1f6-ae8d35184c7e",
        "colab": {
          "base_uri": "https://localhost:8080/",
          "height": 34
        }
      },
      "source": [
        "y_pred = regressor.predict(pf.transform(X_new))\n",
        "np.set_printoptions(precision=0)\n",
        "y_pred"
      ],
      "execution_count": 8,
      "outputs": [
        {
          "output_type": "execute_result",
          "data": {
            "text/plain": [
              "array([54845., 58012., 61310., 64744., 68316., 72030., 75890.])"
            ]
          },
          "metadata": {
            "tags": []
          },
          "execution_count": 8
        }
      ]
    },
    {
      "cell_type": "markdown",
      "metadata": {
        "id": "xAR06W5Pm7BH",
        "colab_type": "text"
      },
      "source": [
        "## Results"
      ]
    },
    {
      "cell_type": "code",
      "metadata": {
        "id": "KGKK_tkWInm2",
        "colab_type": "code",
        "outputId": "b74869fc-4702-41b5-de0d-892da58bfec9",
        "colab": {
          "base_uri": "https://localhost:8080/",
          "height": 316
        }
      },
      "source": [
        "df = pd.DataFrame({'Actual': y_actual, 'Predicted': y_pred})\n",
        "df.plot(kind='bar',figsize=(7,5))\n",
        "plt.grid(which='major', linestyle='-', linewidth='0.25', color='green')\n",
        "plt.grid(which='minor', linestyle=':', linewidth='0.25', color='black')\n",
        "plt.show()"
      ],
      "execution_count": 9,
      "outputs": [
        {
          "output_type": "display_data",
          "data": {
            "image/png": "[encoded data removed]",
            "text/plain": [
              "<Figure size 504x360 with 1 Axes>"
            ]
          },
          "metadata": {
            "tags": [],
            "needs_background": "light"
          }
        }
      ]
    },
    {
      "cell_type": "code",
      "metadata": {
        "id": "YXz7zFR5nQ9d",
        "colab_type": "code",
        "outputId": "5361d743-5de2-4ab3-96b2-6fb06c0be217",
        "colab": {
          "base_uri": "https://localhost:8080/",
          "height": 486
        }
      },
      "source": [
        "plt.figure(figsize=(13, 7.5))\n",
        "plt.scatter(X, y, color = 'red', label = 'previous cases')\n",
        "plt.scatter(X_new, y_pred, color = 'green', label = 'predicted cases')\n",
        "plt.scatter(X_new, y_actual, color = 'cyan', label = 'actual values')\n",
        "plt.plot(X_total, regressor.predict(pf.transform(X_total)), color = 'blue', label = 'behavioral curve')\n",
        "plt.title(\"India Cases Chart (Starting from 30th Jan as day-0)\")\n",
        "plt.xlabel('Days')\n",
        "plt.ylabel('Cases')\n",
        "plt.legend()\n",
        "plt.show()"
      ],
      "execution_count": 10,
      "outputs": [
        {
          "output_type": "display_data",
          "data": {
            "image/png": "[encoded data removed]",
            "text/plain": [
              "<Figure size 936x540 with 1 Axes>"
            ]
          },
          "metadata": {
            "tags": [],
            "needs_background": "light"
          }
        }
      ]
    },
    {
      "cell_type": "code",
      "metadata": {
        "id": "wjshEXZ2nqGi",
        "colab_type": "code",
        "outputId": "32ca2da1-38a4-46eb-9434-dc9f13234cfd",
        "colab": {
          "base_uri": "https://localhost:8080/",
          "height": 34
        }
      },
      "source": [
        "from sklearn.metrics import r2_score\n",
        "r2_score(y_actual, y_pred)"
      ],
      "execution_count": 11,
      "outputs": [
        {
          "output_type": "execute_result",
          "data": {
            "text/plain": [
              "0.9223171715304528"
            ]
          },
          "metadata": {
            "tags": []
          },
          "execution_count": 11
        }
      ]
    }
  ]
}