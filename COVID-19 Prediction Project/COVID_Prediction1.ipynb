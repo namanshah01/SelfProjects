{
  "nbformat": 4,
  "nbformat_minor": 0,
  "metadata": {
    "colab": {
      "name": "COVID_Prediction1.ipynb",
      "provenance": [],
      "collapsed_sections": [],
      "toc_visible": true
    },
    "kernelspec": {
      "name": "python3",
      "display_name": "Python 3"
    }
  },
  "cells": [
    {
      "cell_type": "markdown",
      "metadata": {
        "id": "yl0v4xJrx17U",
        "colab_type": "text"
      },
      "source": [
        "# COVID-19 Analysis"
      ]
    },
    {
      "cell_type": "markdown",
      "metadata": {
        "id": "Bm7pH6mKx8Bo",
        "colab_type": "text"
      },
      "source": [
        "## Importing libraries and dataset"
      ]
    },
    {
      "cell_type": "code",
      "metadata": {
        "id": "FHquPYzuyE6k",
        "colab_type": "code",
        "colab": {}
      },
      "source": [
        "import numpy as np\n",
        "import matplotlib.pyplot as plt\n",
        "import pandas as pd\n",
        "# source : https://ourworldindata.org/coronavirus-source-data"
      ],
      "execution_count": 0,
      "outputs": []
    },
    {
      "cell_type": "code",
      "metadata": {
        "id": "RG5gf3bWyNqg",
        "colab_type": "code",
        "outputId": "a22f28f8-4f92-4b6a-ac80-ef707a5eed54",
        "colab": {
          "base_uri": "https://localhost:8080/",
          "height": 136
        }
      },
      "source": [
        "df = pd.read_csv('COVID_Total.csv')\n",
        "df.columns"
      ],
      "execution_count": 43,
      "outputs": [
        {
          "output_type": "execute_result",
          "data": {
            "text/plain": [
              "Index(['date', 'World', 'Afghanistan', 'Albania', 'Algeria', 'Andorra',\n",
              "       'Angola', 'Anguilla', 'Antigua and Barbuda', 'Argentina',\n",
              "       ...\n",
              "       'United States Virgin Islands', 'Uruguay', 'Uzbekistan', 'Vatican',\n",
              "       'Venezuela', 'Vietnam', 'Western Sahara', 'Yemen', 'Zambia',\n",
              "       'Zimbabwe'],\n",
              "      dtype='object', length=211)"
            ]
          },
          "metadata": {
            "tags": []
          },
          "execution_count": 43
        }
      ]
    },
    {
      "cell_type": "code",
      "metadata": {
        "id": "K3l5sr1_ABAx",
        "colab_type": "code",
        "colab": {}
      },
      "source": [
        "df = df[['date', 'World', 'India']]\n",
        "df = df.loc[df['India']!=0]"
      ],
      "execution_count": 0,
      "outputs": []
    },
    {
      "cell_type": "code",
      "metadata": {
        "id": "P0UxhGyA34yL",
        "colab_type": "code",
        "outputId": "56aaea27-dfbd-4cc2-dcdf-6fceaca8ddea",
        "colab": {
          "base_uri": "https://localhost:8080/",
          "height": 419
        }
      },
      "source": [
        "df = df.set_index([pd.Index(list(i for i in range(0,99)))])\n",
        "df['index1'] = df.index\n",
        "cols = list(df.columns)\n",
        "dataset = df[[cols[-1]] + cols[:-1]]\n",
        "dataset"
      ],
      "execution_count": 45,
      "outputs": [
        {
          "output_type": "execute_result",
          "data": {
            "text/html": [
              "<div>\n",
              "<style scoped>\n",
              "    .dataframe tbody tr th:only-of-type {\n",
              "        vertical-align: middle;\n",
              "    }\n",
              "\n",
              "    .dataframe tbody tr th {\n",
              "        vertical-align: top;\n",
              "    }\n",
              "\n",
              "    .dataframe thead th {\n",
              "        text-align: right;\n",
              "    }\n",
              "</style>\n",
              "<table border=\"1\" class=\"dataframe\">\n",
              "  <thead>\n",
              "    <tr style=\"text-align: right;\">\n",
              "      <th></th>\n",
              "      <th>index1</th>\n",
              "      <th>date</th>\n",
              "      <th>World</th>\n",
              "      <th>India</th>\n",
              "    </tr>\n",
              "  </thead>\n",
              "  <tbody>\n",
              "    <tr>\n",
              "      <th>0</th>\n",
              "      <td>0</td>\n",
              "      <td>30-01-2020</td>\n",
              "      <td>7823</td>\n",
              "      <td>1</td>\n",
              "    </tr>\n",
              "    <tr>\n",
              "      <th>1</th>\n",
              "      <td>1</td>\n",
              "      <td>31-01-2020</td>\n",
              "      <td>9826</td>\n",
              "      <td>1</td>\n",
              "    </tr>\n",
              "    <tr>\n",
              "      <th>2</th>\n",
              "      <td>2</td>\n",
              "      <td>01-02-2020</td>\n",
              "      <td>11946</td>\n",
              "      <td>1</td>\n",
              "    </tr>\n",
              "    <tr>\n",
              "      <th>3</th>\n",
              "      <td>3</td>\n",
              "      <td>02-02-2020</td>\n",
              "      <td>14554</td>\n",
              "      <td>2</td>\n",
              "    </tr>\n",
              "    <tr>\n",
              "      <th>4</th>\n",
              "      <td>4</td>\n",
              "      <td>03-02-2020</td>\n",
              "      <td>17372</td>\n",
              "      <td>2</td>\n",
              "    </tr>\n",
              "    <tr>\n",
              "      <th>...</th>\n",
              "      <td>...</td>\n",
              "      <td>...</td>\n",
              "      <td>...</td>\n",
              "      <td>...</td>\n",
              "    </tr>\n",
              "    <tr>\n",
              "      <th>94</th>\n",
              "      <td>94</td>\n",
              "      <td>03-05-2020</td>\n",
              "      <td>3389459</td>\n",
              "      <td>39980</td>\n",
              "    </tr>\n",
              "    <tr>\n",
              "      <th>95</th>\n",
              "      <td>95</td>\n",
              "      <td>04-05-2020</td>\n",
              "      <td>3468047</td>\n",
              "      <td>42533</td>\n",
              "    </tr>\n",
              "    <tr>\n",
              "      <th>96</th>\n",
              "      <td>96</td>\n",
              "      <td>05-05-2020</td>\n",
              "      <td>3545486</td>\n",
              "      <td>46433</td>\n",
              "    </tr>\n",
              "    <tr>\n",
              "      <th>97</th>\n",
              "      <td>97</td>\n",
              "      <td>06-05-2020</td>\n",
              "      <td>3624789</td>\n",
              "      <td>49391</td>\n",
              "    </tr>\n",
              "    <tr>\n",
              "      <th>98</th>\n",
              "      <td>98</td>\n",
              "      <td>07-05-2020</td>\n",
              "      <td>3713796</td>\n",
              "      <td>52952</td>\n",
              "    </tr>\n",
              "  </tbody>\n",
              "</table>\n",
              "<p>99 rows × 4 columns</p>\n",
              "</div>"
            ],
            "text/plain": [
              "    index1        date    World  India\n",
              "0        0  30-01-2020     7823      1\n",
              "1        1  31-01-2020     9826      1\n",
              "2        2  01-02-2020    11946      1\n",
              "3        3  02-02-2020    14554      2\n",
              "4        4  03-02-2020    17372      2\n",
              "..     ...         ...      ...    ...\n",
              "94      94  03-05-2020  3389459  39980\n",
              "95      95  04-05-2020  3468047  42533\n",
              "96      96  05-05-2020  3545486  46433\n",
              "97      97  06-05-2020  3624789  49391\n",
              "98      98  07-05-2020  3713796  52952\n",
              "\n",
              "[99 rows x 4 columns]"
            ]
          },
          "metadata": {
            "tags": []
          },
          "execution_count": 45
        }
      ]
    },
    {
      "cell_type": "code",
      "metadata": {
        "id": "smmwCuuJUWII",
        "colab_type": "code",
        "colab": {}
      },
      "source": [
        "X = dataset.iloc[:, 0:1]\n",
        "y = dataset.iloc[:, -1]"
      ],
      "execution_count": 0,
      "outputs": []
    },
    {
      "cell_type": "markdown",
      "metadata": {
        "id": "G5CukinmDYmH",
        "colab_type": "text"
      },
      "source": [
        "## Creating prediction for next 7 days"
      ]
    },
    {
      "cell_type": "markdown",
      "metadata": {
        "id": "uBmOwJcUD4G3",
        "colab_type": "text"
      },
      "source": [
        "### Training with all data"
      ]
    },
    {
      "cell_type": "code",
      "metadata": {
        "id": "0CRVDLYFDdFq",
        "colab_type": "code",
        "outputId": "3375df9a-ba4b-4d34-8850-ab5b5fc7a4bb",
        "colab": {
          "base_uri": "https://localhost:8080/",
          "height": 34
        }
      },
      "source": [
        "from sklearn.preprocessing import PolynomialFeatures\n",
        "from sklearn.linear_model import LinearRegression\n",
        "pf = PolynomialFeatures(degree = 4)\n",
        "X_poly = pf.fit_transform(X)\n",
        "regressor = LinearRegression()\n",
        "regressor.fit(X_poly, y)"
      ],
      "execution_count": 47,
      "outputs": [
        {
          "output_type": "execute_result",
          "data": {
            "text/plain": [
              "LinearRegression(copy_X=True, fit_intercept=True, n_jobs=None, normalize=False)"
            ]
          },
          "metadata": {
            "tags": []
          },
          "execution_count": 47
        }
      ]
    },
    {
      "cell_type": "markdown",
      "metadata": {
        "id": "8KSb5k44ERpG",
        "colab_type": "text"
      },
      "source": [
        "### Creating test cases for next 7 days"
      ]
    },
    {
      "cell_type": "code",
      "metadata": {
        "id": "jd-G7CNiEQeW",
        "colab_type": "code",
        "colab": {}
      },
      "source": [
        "X_new = np.linspace(99, 105, num = 7, dtype = np.int32, endpoint = True)\n",
        "X_new = X_new.reshape(len(X_new), 1)"
      ],
      "execution_count": 0,
      "outputs": []
    },
    {
      "cell_type": "markdown",
      "metadata": {
        "id": "Wgu65SOWTqwC",
        "colab_type": "text"
      },
      "source": [
        "### Calculating and displaying Results"
      ]
    },
    {
      "cell_type": "markdown",
      "metadata": {
        "id": "cei2Vn-bFOQO",
        "colab_type": "text"
      },
      "source": [
        "NOTE : The data is from 1st Jan 2020 to 7th May 2020.\n",
        "With 1st Jan 2020 being 'Day 0'.\n",
        "An additional dataset is created of next 7 days (ie 8th May 2020 to 14 May 2020) ranging from Day 99 to Day 105.\n",
        "A bar graph is also plotted for the predicted values.\n"
      ]
    },
    {
      "cell_type": "code",
      "metadata": {
        "id": "mb7tFPrEH6Fj",
        "colab_type": "code",
        "colab": {}
      },
      "source": [
        "X_new = np.linspace(99, 105, num = 7, dtype = np.int32, endpoint = True)\n",
        "X_new = X_new.reshape(len(X_new), 1)\n",
        "X_total = np.concatenate((X, X_new))"
      ],
      "execution_count": 0,
      "outputs": []
    },
    {
      "cell_type": "code",
      "metadata": {
        "id": "2j7RGLjhIEzu",
        "colab_type": "code",
        "outputId": "d6c45e35-ebf8-4414-f143-ac7f04075dc4",
        "colab": {
          "base_uri": "https://localhost:8080/",
          "height": 51
        }
      },
      "source": [
        "y_new_pred = regressor.predict(pf.transform(X_new))\n",
        "y_new_pred"
      ],
      "execution_count": 50,
      "outputs": [
        {
          "output_type": "execute_result",
          "data": {
            "text/plain": [
              "array([54844.72029669, 58011.72520449, 61310.20326011, 64743.65577115,\n",
              "       68315.62907744, 72029.71455098, 75889.548596  ])"
            ]
          },
          "metadata": {
            "tags": []
          },
          "execution_count": 50
        }
      ]
    },
    {
      "cell_type": "code",
      "metadata": {
        "id": "MoNyTRtwG-8K",
        "colab_type": "code",
        "colab": {
          "base_uri": "https://localhost:8080/",
          "height": 295
        },
        "outputId": "651623d3-180e-444f-839f-0f7c6e91e8db"
      },
      "source": [
        "X_plot = list(i for i in range(99,106))\n",
        "y_pos = np.arange(len(X_plot))\n",
        "\n",
        "plt.bar(y_pos, y_new_pred) \n",
        "plt.xticks(y_pos, X_plot)\n",
        "plt.title('Predictions')\n",
        "plt.xlabel('Day number')\n",
        "plt.ylabel('Total number of cases')\n",
        "\n",
        "plt.show()"
      ],
      "execution_count": 51,
      "outputs": [
        {
          "output_type": "display_data",
          "data": {
            "image/png": "[encoded data removed]",
            "text/plain": [
              "<Figure size 432x288 with 1 Axes>"
            ]
          },
          "metadata": {
            "tags": [],
            "needs_background": "light"
          }
        }
      ]
    },
    {
      "cell_type": "code",
      "metadata": {
        "id": "QeKH4PC1IGy4",
        "colab_type": "code",
        "outputId": "9b2a0f6c-3111-40c5-c576-99e26417cbf2",
        "colab": {
          "base_uri": "https://localhost:8080/",
          "height": 486
        }
      },
      "source": [
        "plt.figure(figsize=(13, 7.5))\n",
        "plt.scatter(X, y, color = 'red')\n",
        "plt.scatter(X_new, y_new_pred, color = 'green')\n",
        "plt.plot(X_total, regressor.predict(pf.transform(X_total)), color = 'blue')\n",
        "plt.title(\"India Cases Chart (Starting from 30th Jan as day-0)\")\n",
        "plt.xlabel('Days')\n",
        "plt.ylabel('Cases')\n",
        "plt.show()"
      ],
      "execution_count": 52,
      "outputs": [
        {
          "output_type": "display_data",
          "data": {
            "image/png": "[encoded data removed]",
            "text/plain": [
              "<Figure size 936x540 with 1 Axes>"
            ]
          },
          "metadata": {
            "tags": [],
            "needs_background": "light"
          }
        }
      ]
    },
    {
      "cell_type": "code",
      "metadata": {
        "id": "KGKK_tkWInm2",
        "colab_type": "code",
        "colab": {}
      },
      "source": [
        ""
      ],
      "execution_count": 0,
      "outputs": []
    }
  ]
}